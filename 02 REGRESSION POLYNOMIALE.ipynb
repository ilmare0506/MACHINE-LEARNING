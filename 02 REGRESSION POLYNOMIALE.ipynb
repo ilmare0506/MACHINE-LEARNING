{
 "cells": [
  {
   "cell_type": "markdown",
   "metadata": {},
   "source": [
    "# REGRESSION POLYNOMIALE"
   ]
  },
  {
   "cell_type": "markdown",
   "metadata": {},
   "source": [
    "<h3>Petit rappel</h3>\n",
    "Dans une régression linéaire Simple nous avions un nuage de point ressemblant à ça\n",
    "\n",
    "<img src='images/nuage_rl.png'>\n",
    "Mais souvent nos données ne sont pas aussi linéaire et nous pourrions avoir un nuage de point ressembalant à ça\n",
    "<img src='images/data1.png'>\n",
    "Si on se contente de le régression linéaire simple nous allons obtenir le résultat suivant\n",
    "<img src='images/data2.png'>\n",
    "Alors qu'en fait nous aurions besoin de ça\n",
    "<img src='images/data3.png'>"
   ]
  },
  {
   "cell_type": "code",
   "execution_count": 6,
   "metadata": {},
   "outputs": [],
   "source": [
    "# On importe les librairies\n",
    "import matplotlib.pyplot as plt\n",
    "import pandas as pd\n",
    "from sklearn.linear_model import LinearRegression\n",
    "from sklearn.model_selection import train_test_split\n",
    "from sklearn.metrics import  r2_score\n",
    "from sklearn.preprocessing import PolynomialFeatures"
   ]
  },
  {
   "cell_type": "code",
   "execution_count": 2,
   "metadata": {},
   "outputs": [],
   "source": [
    "# Importer le dataset\n",
    "dataset = pd.read_csv('graph.csv', sep=\";\")\n",
    "X = dataset.iloc[:, :-1].values\n",
    "y = dataset.iloc[:, -1].values\n"
   ]
  },
  {
   "cell_type": "code",
   "execution_count": 4,
   "metadata": {},
   "outputs": [
    {
     "data": {
      "text/plain": [
       "<matplotlib.collections.PathCollection at 0x1f6ac0680f0>"
      ]
     },
     "execution_count": 4,
     "metadata": {},
     "output_type": "execute_result"
    },
    {
     "data": {
      "image/png": "[encoded data removed]",
      "text/plain": [
       "<Figure size 432x288 with 1 Axes>"
      ]
     },
     "metadata": {
      "needs_background": "light"
     },
     "output_type": "display_data"
    }
   ],
   "source": [
    "# Afficher les points\n",
    "plt.scatter(X, y, color = 'red')"
   ]
  },
  {
   "cell_type": "code",
   "execution_count": 7,
   "metadata": {},
   "outputs": [],
   "source": [
    "# Diviser le dataset entre le Training set et le Test set\n",
    "X_train, X_test, y_train, y_test = train_test_split(X, y, test_size = 1.0/3)"
   ]
  },
  {
   "cell_type": "code",
   "execution_count": 8,
   "metadata": {},
   "outputs": [
    {
     "data": {
      "text/plain": [
       "0.7828894291907027"
      ]
     },
     "execution_count": 8,
     "metadata": {},
     "output_type": "execute_result"
    }
   ],
   "source": [
    "#regression lineaire simple\n",
    "regressor = LinearRegression()\n",
    "regressor.fit(X_train, y_train)\n",
    "y_pred = regressor.predict(X_test)\n",
    "r2 = r2_score(y_test,y_pred)\n",
    "r2"
   ]
  },
  {
   "cell_type": "code",
   "execution_count": 27,
   "metadata": {},
   "outputs": [
    {
     "name": "stdout",
     "output_type": "stream",
     "text": [
      "0.8952741904205754\n"
     ]
    },
    {
     "data": {
      "text/plain": [
       "0.8809499483106618"
      ]
     },
     "execution_count": 27,
     "metadata": {},
     "output_type": "execute_result"
    }
   ],
   "source": [
    "# Construction du modèle de regression polynomiale\n",
    "poly_reg = PolynomialFeatures(degree = 3)\n",
    "\n",
    "# Transformation de X\n",
    "X_poly = poly_reg.fit_transform(X)\n",
    "X_poly_train = poly_reg.transform(X_train)\n",
    "X_poly_test = poly_reg.transform(X_test)\n",
    "\n",
    "# Construction du modèle\n",
    "regressor2 = LinearRegression()\n"
   ]
  },
  {
   "cell_type": "code",
   "execution_count": null,
   "metadata": {},
   "outputs": [],
   "source": [
    "# Entrainement\n",
    "regressor2.fit(X_poly_train, y_train"
   ]
  },
  {
   "cell_type": "code",
   "execution_count": null,
   "metadata": {},
   "outputs": [],
   "source": [
    "# Prédiction sur le jeu de test\n",
    "y_poly_pred = regressor2.predict(X_poly_test)"
   ]
  },
  {
   "cell_type": "code",
   "execution_count": null,
   "metadata": {},
   "outputs": [],
   "source": [
    "# Scoring sur le jeu de test\n",
    "Score_test = regressor2.score(X_poly_test,y_test)\n",
    "print(Score_test)\n",
    "\n",
    "# Scoring sur le jeu de test\n",
    "Score_all = regressor2.score(X_poly,y)\n",
    "Score_all"
   ]
  }
 ],
 "metadata": {
  "kernelspec": {
   "display_name": "Python 3",
   "language": "python",
   "name": "python3"
  },
  "language_info": {
   "codemirror_mode": {
    "name": "ipython",
    "version": 3
   },
   "file_extension": ".py",
   "mimetype": "text/x-python",
   "name": "python",
   "nbconvert_exporter": "python",
   "pygments_lexer": "ipython3",
   "version": "3.7.7"
  }
 },
 "nbformat": 4,
 "nbformat_minor": 2
}
